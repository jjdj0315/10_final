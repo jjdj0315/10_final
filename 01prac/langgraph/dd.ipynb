{
 "cells": [
  {
   "cell_type": "code",
   "execution_count": 2,
   "id": "1331b1b2",
   "metadata": {},
   "outputs": [],
   "source": [
    "from typing import Dict, TypedDict"
   ]
  },
  {
   "cell_type": "code",
   "execution_count": 4,
   "id": "32c1b305",
   "metadata": {},
   "outputs": [],
   "source": [
    "sample_dict: Dict[str, str] = {\n",
    "    \"name\": \"테디\",\n",
    "    \"age\": \"30\",  # 문자열로 저장 (dict 에서는 가능)\n",
    "    \"job\": \"개발자\",\n",
    "}\n"
   ]
  },
  {
   "cell_type": "code",
   "execution_count": 5,
   "id": "2e6a2d47",
   "metadata": {},
   "outputs": [],
   "source": [
    "# TypedDict 사용\n",
    "class Person(TypedDict):\n",
    "    name: str\n",
    "    age: int  # 정수형으로 명시\n",
    "    job: str"
   ]
  },
  {
   "cell_type": "code",
   "execution_count": 6,
   "id": "b0748739",
   "metadata": {},
   "outputs": [],
   "source": [
    "typed_dict: Person = {\"name\": \"셜리\", \"age\": 25, \"job\": \"디자이너\"}"
   ]
  },
  {
   "cell_type": "code",
   "execution_count": 7,
   "id": "0a1f47fb",
   "metadata": {},
   "outputs": [
    {
     "data": {
      "text/plain": [
       "{'name': '셜리', 'age': 25, 'job': '디자이너'}"
      ]
     },
     "execution_count": 7,
     "metadata": {},
     "output_type": "execute_result"
    }
   ],
   "source": [
    "typed_dict"
   ]
  },
  {
   "cell_type": "code",
   "execution_count": 9,
   "id": "b894cb4a",
   "metadata": {},
   "outputs": [],
   "source": [
    "from typing import Annotated"
   ]
  },
  {
   "cell_type": "code",
   "execution_count": 12,
   "id": "50301558",
   "metadata": {},
   "outputs": [],
   "source": [
    "name : Annotated[str,\"사용자 이름\"]\n",
    "age : Annotated[int,\"사용자 나이(0-150)\"]"
   ]
  },
  {
   "cell_type": "code",
   "execution_count": null,
   "id": "2f97346b",
   "metadata": {},
   "outputs": [],
   "source": [
    "from typing import Annotated\n",
    "from pydantic import Field, BaseModel, ValidationError"
   ]
  },
  {
   "cell_type": "code",
   "execution_count": null,
   "id": "b4af3da0",
   "metadata": {},
   "outputs": [],
   "source": []
  }
 ],
 "metadata": {
  "kernelspec": {
   "display_name": "venv",
   "language": "python",
   "name": "python3"
  },
  "language_info": {
   "codemirror_mode": {
    "name": "ipython",
    "version": 3
   },
   "file_extension": ".py",
   "mimetype": "text/x-python",
   "name": "python",
   "nbconvert_exporter": "python",
   "pygments_lexer": "ipython3",
   "version": "3.11.9"
  }
 },
 "nbformat": 4,
 "nbformat_minor": 5
}
